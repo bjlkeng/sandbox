{
 "cells": [
  {
   "cell_type": "code",
   "execution_count": 1,
   "metadata": {
    "ExecuteTime": {
     "end_time": "2022-02-13T01:38:39.392981Z",
     "start_time": "2022-02-13T01:38:38.150197Z"
    }
   },
   "outputs": [],
   "source": [
    "import os\n",
    "import torch\n",
    "import numpy as np\n",
    "import pandas as pd\n",
    "\n",
    "from torch import nn\n",
    "from torch.utils.data import DataLoader, Dataset\n",
    "from torchvision import datasets, transforms\n",
    "from torchvision.transforms import ToTensor, Lambda\n",
    "import matplotlib.pyplot as plt\n"
   ]
  },
  {
   "cell_type": "code",
   "execution_count": 2,
   "metadata": {
    "ExecuteTime": {
     "end_time": "2022-02-13T01:38:39.411054Z",
     "start_time": "2022-02-13T01:38:39.394735Z"
    },
    "scrolled": true
   },
   "outputs": [
    {
     "name": "stdout",
     "output_type": "stream",
     "text": [
      "Cuda available: True\n",
      "Current device: 0\n",
      "Device: cuda:0\n",
      "Device count: 1\n",
      "Device name: GeForce GTX 1070\n"
     ]
    }
   ],
   "source": [
    "available = torch.cuda.is_available()\n",
    "curr_device = torch.cuda.current_device()\n",
    "device = torch.device(\"cuda:0\" if available else \"cpu\")\n",
    "device_count = torch.cuda.device_count() \n",
    "device_name =  torch.cuda.get_device_name(0)\n",
    "\n",
    "print(f'Cuda available: {available}')\n",
    "print(f'Current device: {curr_device}')\n",
    "print(f'Device: {device}')\n",
    "print(f'Device count: {device_count}')\n",
    "print(f'Device name: {device_name}')\n",
    "\n",
    "#device = torch.device(\"cpu\")"
   ]
  },
  {
   "cell_type": "code",
   "execution_count": 3,
   "metadata": {
    "ExecuteTime": {
     "end_time": "2022-02-13T01:38:39.540544Z",
     "start_time": "2022-02-13T01:38:39.412692Z"
    }
   },
   "outputs": [],
   "source": [
    "# (Adapted) Code from PyTorch's Resnet impl: https://github.com/pytorch/vision/blob/main/torchvision/models/resnet.py\n",
    "\n",
    "def conv3x3(in_planes: int, out_planes: int, stride: int = 1, groups: int = 1, dilation: int = 1) -> nn.Conv2d:\n",
    "    \"\"\"3x3 convolution with padding\"\"\"\n",
    "    return nn.Conv2d(\n",
    "        in_planes,\n",
    "        out_planes,\n",
    "        kernel_size=3,\n",
    "        stride=stride,\n",
    "        padding=dilation,\n",
    "        groups=groups,\n",
    "        bias=False,\n",
    "        dilation=dilation,\n",
    "    )\n",
    "\n",
    "\n",
    "def conv1x1(in_planes: int, out_planes: int, stride: int = 1) -> nn.Conv2d:\n",
    "    \"\"\"1x1 convolution\"\"\"\n",
    "    return nn.Conv2d(in_planes, out_planes, kernel_size=1, stride=stride, bias=False)\n",
    "\n",
    "\n",
    "class Bottleneck(nn.Module):\n",
    "    # Bottleneck in torchvision places the stride for downsampling at 3x3 convolution(self.conv2)\n",
    "    # while original implementation places the stride at the first 1x1 convolution(self.conv1)\n",
    "    # according to \"Deep residual learning for image recognition\"https://arxiv.org/abs/1512.03385.\n",
    "    # This variant is also known as ResNet V1.5 and improves accuracy according to\n",
    "    # https://ngc.nvidia.com/catalog/model-scripts/nvidia:resnet_50_v1_5_for_pytorch.\n",
    "\n",
    "    expansion: int = 1\n",
    "\n",
    "    def __init__(\n",
    "        self,\n",
    "        inplanes: int,\n",
    "        planes: int,\n",
    "        stride: int = 1,\n",
    "        downsample = None,\n",
    "        groups: int = 1,\n",
    "        base_width: int = 64,\n",
    "        dilation: int = 1,\n",
    "        norm_layer = None,\n",
    "        use_final_relu = True,\n",
    "    ) -> None:\n",
    "        super().__init__()\n",
    "        if norm_layer is None:\n",
    "            norm_layer = nn.BatchNorm2d\n",
    "        width = int(planes * (base_width / 64.0)) * groups\n",
    "        # Both self.conv2 and self.downsample layers downsample the input when stride != 1\n",
    "        self.conv1 = conv1x1(inplanes, width)\n",
    "        self.bn1 = norm_layer(width)\n",
    "        self.conv2 = conv3x3(width, width, stride, groups, dilation)\n",
    "        self.bn2 = norm_layer(width)\n",
    "        \n",
    "        # BK: Force last layers back to inplanes\n",
    "        self.conv3 = conv1x1(width, inplanes)\n",
    "        self.bn3 = norm_layer(inplanes)\n",
    "        self.relu = nn.ReLU(inplace=True)\n",
    "        self.downsample = downsample\n",
    "        self.stride = stride\n",
    "        \n",
    "        self.use_final_relu = use_final_relu\n",
    "\n",
    "    def forward(self, x):\n",
    "        identity = x\n",
    "\n",
    "        out = self.conv1(x)\n",
    "        #out = self.bn1(out)\n",
    "        out = self.relu(out)\n",
    "\n",
    "        out = self.conv2(out)\n",
    "        #out = self.bn2(out)\n",
    "        out = self.relu(out)\n",
    "\n",
    "        out = self.conv3(out)\n",
    "        #out = self.bn3(out)\n",
    "\n",
    "        if self.downsample is not None:\n",
    "            identity = self.downsample(x)\n",
    "\n",
    "        out += identity\n",
    "        if self.use_final_relu:\n",
    "            out = self.relu(out)\n",
    "\n",
    "        return out"
   ]
  },
  {
   "cell_type": "code",
   "execution_count": 37,
   "metadata": {
    "ExecuteTime": {
     "end_time": "2022-02-13T01:56:14.670614Z",
     "start_time": "2022-02-13T01:56:14.653992Z"
    }
   },
   "outputs": [],
   "source": [
    "class Reshape(nn.Module):\n",
    "    def __init__(self, shape):\n",
    "        super(Reshape, self).__init__()\n",
    "        self.shape = tuple([-1] + list(shape))\n",
    "        \n",
    "    def forward(self, x):\n",
    "        return torch.reshape(x, self.shape)\n",
    "\n",
    "def dense_backbone(shape, network_width):\n",
    "    input_width = shape[0] * shape[1] * shape[2]\n",
    "    return nn.Sequential(\n",
    "        nn.Flatten(),\n",
    "        nn.Linear(input_width, network_width),\n",
    "        nn.ReLU(),\n",
    "        nn.Linear(network_width, input_width),\n",
    "        Reshape(shape)\n",
    "    )\n",
    "\n",
    "def bottleneck_backbone(in_planes, planes):\n",
    "    return nn.Sequential(\n",
    "        Bottleneck(in_planes, planes, use_final_relu=False),\n",
    "        Bottleneck(in_planes, planes, use_final_relu=False),\n",
    "        Bottleneck(in_planes, planes, use_final_relu=False),\n",
    "        Bottleneck(in_planes, planes, use_final_relu=False),\n",
    "    )\n",
    "\n",
    "check_mask = {}\n",
    "check_mask_device = {}\n",
    "def checkerboard_mask(shape, to_device=True):\n",
    "    global check_mask, check_mask_device\n",
    "    if shape not in check_mask:\n",
    "        check_mask[shape] = 1 - np.indices(shape).sum(axis=0) % 2\n",
    "        check_mask[shape] = torch.Tensor(check_mask[shape])\n",
    "        \n",
    "    if to_device and shape not in check_mask_device:\n",
    "        check_mask_device[shape] = check_mask[shape].to(device)\n",
    "        \n",
    "    return check_mask_device[shape] if to_device else check_mask[shape]\n",
    "\n",
    "chan_mask = {}\n",
    "chan_mask_device = {}\n",
    "def channel_mask(shape, to_device=True):\n",
    "    assert len(shape) == 3, shape\n",
    "    assert shape[0] % 2 == 0, shape\n",
    "    global chan_mask, chan_mask_device\n",
    "    if shape not in chan_mask:\n",
    "        chan_mask[shape] = torch.cat([torch.zeros((shape[0] // 2, shape[1], shape[2])),\n",
    "                                      torch.ones((shape[0] // 2, shape[1], shape[2])),],\n",
    "                                      dim=0)\n",
    "        assert chan_mask[shape].shape == shape, (chan_mask[shape].shape, shape)\n",
    "        \n",
    "    if to_device and shape not in chan_mask_device:\n",
    "        chan_mask_device[shape] = chan_mask[shape].to(device)\n",
    "        \n",
    "    return chan_mask_device[shape] if to_device else chan_mask[shape]"
   ]
  },
  {
   "cell_type": "code",
   "execution_count": 171,
   "metadata": {
    "ExecuteTime": {
     "end_time": "2022-02-13T02:11:58.480902Z",
     "start_time": "2022-02-13T02:11:58.467049Z"
    }
   },
   "outputs": [],
   "source": [
    "class NormalizingFlowMNist(nn.Module):\n",
    "    EPSILON = 1e-7\n",
    "    \n",
    "    def __init__(self, num_coupling=6, planes=64):\n",
    "        super(NormalizingFlowMNist, self).__init__()\n",
    "        assert num_coupling == 6, \"Hard code one iteration for now\"\n",
    "        self.num_coupling = num_coupling\n",
    "        self.shape = (1, 28, 28)\n",
    "        \n",
    "        self.planes = planes\n",
    "        self.s = nn.ModuleList()\n",
    "        self.t = nn.ModuleList()\n",
    "        \n",
    "        # Learnable scalar scaling parameters for outputs of S and T\n",
    "        self.s_scale = nn.ParameterList()\n",
    "        self.t_scale = nn.ParameterList()\n",
    "        self.t_bias = nn.ParameterList()\n",
    "        self.shapes = []\n",
    "      \n",
    "        in_planes = 1\n",
    "        shape = self.shape\n",
    "        for i in range(num_coupling):\n",
    "            self.s.append(bottleneck_backbone(shape[0], planes))\n",
    "            self.t.append(bottleneck_backbone(shape[0], planes))\n",
    "            \n",
    "            self.s_scale.append(torch.nn.Parameter(torch.zeros(shape), requires_grad=True))\n",
    "            self.t_scale.append(torch.nn.Parameter(torch.zeros(shape), requires_grad=True))\n",
    "            self.t_bias.append(torch.nn.Parameter(torch.zeros(shape), requires_grad=True))\n",
    "                          \n",
    "            torch.nn.init.normal_(self.s_scale[i], std=0.1)\n",
    "            torch.nn.init.normal_(self.t_scale[i], std=0.1)\n",
    "            \n",
    "            self.shapes.append(shape)\n",
    "           \n",
    "            if i % 6 == 2:\n",
    "                shape = (4 * shape[0], shape[1] // 2, shape[2] // 2)\n",
    "            \n",
    "        self.validation = False\n",
    "    \n",
    "    def validate(self):\n",
    "        self.validation = True\n",
    "        self.eval()\n",
    "        \n",
    "    def train(self, mode=True):\n",
    "        nn.Module.train(self, mode)\n",
    "        if mode:\n",
    "            self.validation = False\n",
    "\n",
    "    def forward(self, x):\n",
    "        if model.training or self.validation:\n",
    "            s_vals = []\n",
    "            \n",
    "            for i in range(self.num_coupling):\n",
    "                shape = self.shapes[i]\n",
    "                mask = checkerboard_mask(shape) if i % 6 < 3 else channel_mask(shape)\n",
    "                mask = mask if i % 2 == 0 else (1 - mask)\n",
    "               \n",
    "                t = (self.t_scale[i]) * self.t[i](mask * x) + (self.t_bias[i])\n",
    "                s = (self.s_scale[i]) * torch.tanh(self.s[i](mask * x))\n",
    "                y = mask * x + (1 - mask) * (x * torch.exp(s) + t)\n",
    "                s_vals.append(torch.flatten((1 - mask) * s))\n",
    "                \n",
    "                if i % 6 == 2:\n",
    "                    y = torch.nn.functional.pixel_unshuffle(y, 2)\n",
    "                    \n",
    "                x = y\n",
    "\n",
    "            # Return outputs and vars needed for determinant\n",
    "            return y, torch.cat(s_vals), torch.cat([torch.flatten(s) for s in self.s_scale])\n",
    "        else:\n",
    "            y = x\n",
    "            for i in reversed(range(self.num_coupling)):\n",
    "                shape = self.shapes[i]\n",
    "                mask = checkerboard_mask(shape) if i % 6 < 3 else channel_mask(shape)\n",
    "                mask = mask if i % 2 == 0 else (1 - mask)\n",
    "              \n",
    "                t = (self.t_scale[i]) * self.t[i](mask * y) + (self.t_bias[i])\n",
    "                s = (self.s_scale[i]) * torch.tanh(self.s[i](mask * y))\n",
    "                x = mask * y + (1 - mask) * ((y - t) * torch.exp(-s))\n",
    "                \n",
    "                if i % 6 == 3:\n",
    "                    x = torch.nn.functional.pixel_shuffle(x, 2)\n",
    "                \n",
    "                y = x\n",
    "                \n",
    "            return x"
   ]
  },
  {
   "cell_type": "code",
   "execution_count": 172,
   "metadata": {
    "ExecuteTime": {
     "end_time": "2022-02-13T02:11:58.636272Z",
     "start_time": "2022-02-13T02:11:58.593107Z"
    }
   },
   "outputs": [],
   "source": [
    "PI = torch.tensor(np.pi).to(device)\n",
    "def loss_fn(y, s, scale, batch_size):\n",
    "    # -log(zero-mean gaussian) + log determinant\n",
    "    # -log p_x = log(pz(f(x))) + log(det(\\partial f/\\partial x))\n",
    "    # -log p_x = 0.5 * y**2 + s1 + s2 + ...\n",
    "    logpx = -torch.sum(0.5 * torch.log(2 * PI) + 0.5 * y**2)\n",
    "    det = torch.sum(s)\n",
    "    reg = 5e-5 * torch.sum(scale ** 2)\n",
    "    loss = -(logpx + det) + reg\n",
    "    #print(f\"{-logpx / batch_size:.2f} / {loss / batch_size:.2f}\")\n",
    "    return torch.div(loss, batch_size)"
   ]
  },
  {
   "cell_type": "markdown",
   "metadata": {},
   "source": [
    "# MNist Training"
   ]
  },
  {
   "cell_type": "code",
   "execution_count": 354,
   "metadata": {
    "ExecuteTime": {
     "end_time": "2022-02-13T02:30:33.688349Z",
     "start_time": "2022-02-13T02:30:33.683990Z"
    }
   },
   "outputs": [],
   "source": [
    "def pre_process(x):\n",
    "    # Convert back to integer values\n",
    "    x = x * 255.\n",
    "    \n",
    "    # Add random uniform [0, 1] noise to get a proper likelihood estimate\n",
    "    # https://bjlkeng.github.io/posts/a-note-on-using-log-likelihood-for-generative-models/\n",
    "    \n",
    "    # TODO FIX ME\n",
    "    #x = x + torch.rand(x.shape)\n",
    "    \n",
    "    # Apply transform to deal with boundary effects (see realNVP paper)\n",
    "    #x = torch.logit(0.05 + 0.90 * x / 256)\n",
    "    #return x\n",
    "    return x / 255\n",
    "\n",
    "def post_process(x):\n",
    "    # Convert back to integer values\n",
    "    #return torch.clip(torch.floor(256 / 0.90 * (torch.sigmoid(x) - 0.05)), min=0, max=255) / 255\n",
    "    return torch.clip(x, min=0, max=1)"
   ]
  },
  {
   "cell_type": "code",
   "execution_count": null,
   "metadata": {},
   "outputs": [],
   "source": []
  },
  {
   "cell_type": "code",
   "execution_count": 355,
   "metadata": {
    "ExecuteTime": {
     "end_time": "2022-02-13T02:30:34.072804Z",
     "start_time": "2022-02-13T02:30:34.038252Z"
    }
   },
   "outputs": [],
   "source": [
    "train_dataset = datasets.MNIST('data', train=True, download=True,\n",
    "                               transform=transforms.Compose([\n",
    "                                   transforms.ToTensor(),\n",
    "                               ]))\n",
    "test_dataset = datasets.MNIST('data', train=False, download=True,\n",
    "                              transform=transforms.Compose([\n",
    "                                  transforms.ToTensor(),\n",
    "                              ]))"
   ]
  },
  {
   "cell_type": "code",
   "execution_count": 369,
   "metadata": {
    "ExecuteTime": {
     "end_time": "2022-02-13T02:32:07.131860Z",
     "start_time": "2022-02-13T02:32:07.123363Z"
    }
   },
   "outputs": [],
   "source": [
    "def train_loop(dataloader, model, loss_fn, optimizer, report_iters=10, num_pixels=28*28):\n",
    "    size = len(dataloader)\n",
    "    prev = []\n",
    "    for batch, (X, _) in enumerate(dataloader):\n",
    "        # Transfer to GPU\n",
    "        X = pre_process(X)\n",
    "        X = X.to(device)\n",
    "        \n",
    "        # Compute prediction and loss\n",
    "        y, s, scale = model(X)\n",
    "        loss = loss_fn(y, s, scale, batch_size)\n",
    "        \n",
    "        # Backpropagation\n",
    "        optimizer.zero_grad()\n",
    "        loss.backward()\n",
    "        \n",
    "        prev = [(name, x, x.grad) for name, x in model.named_parameters(recurse=True)]\n",
    "        optimizer.step()\n",
    "\n",
    "        if batch % report_iters == 0:\n",
    "            loss, current = loss.item(), batch\n",
    "            print(f\"loss: {loss:.2f}; {loss / num_pixels / np.log(2):>.2f}  [{current:>5d}/{size:>5d}]\")\n",
    "            \n",
    "        # FIX ME\n",
    "        if batch >= 10:\n",
    "            break\n",
    "\n",
    "def test_loop(dataloader, model, loss_fn, num_pixels=28*28):\n",
    "    size = len(dataloader)\n",
    "    num_batches = len(dataloader)\n",
    "    test_loss = 0\n",
    "\n",
    "    with torch.no_grad():\n",
    "        model.validate()\n",
    "        for X, _ in dataloader:\n",
    "            X = pre_process(X)\n",
    "            X = X.to(device)\n",
    "            y, s, scale = model(X)\n",
    "            test_loss += loss_fn(y, s, scale, batch_size)\n",
    "        model.train()\n",
    "\n",
    "    test_loss /= num_batches\n",
    "    print(f\"Test Error: \\n Avg loss: {test_loss:.2f}; {test_loss / num_pixels / np.log(2):.2f} \\n\")"
   ]
  },
  {
   "cell_type": "code",
   "execution_count": 370,
   "metadata": {
    "ExecuteTime": {
     "end_time": "2022-02-13T02:34:01.361355Z",
     "start_time": "2022-02-13T02:32:08.056128Z"
    },
    "scrolled": true
   },
   "outputs": [
    {
     "name": "stdout",
     "output_type": "stream",
     "text": [
      "Epoch 1\n",
      "-------------------------------\n",
      "loss: 762.82; 1.40  [    0/  600]\n",
      "loss: 738.00; 1.36  [   10/  600]\n",
      "Epoch 2\n",
      "-------------------------------\n",
      "loss: 738.33; 1.36  [    0/  600]\n",
      "loss: 692.59; 1.27  [   10/  600]\n",
      "Epoch 3\n",
      "-------------------------------\n",
      "loss: 691.50; 1.27  [    0/  600]\n",
      "loss: 648.87; 1.19  [   10/  600]\n",
      "Epoch 4\n",
      "-------------------------------\n",
      "loss: 647.70; 1.19  [    0/  600]\n",
      "loss: 612.70; 1.13  [   10/  600]\n",
      "Epoch 5\n",
      "-------------------------------\n",
      "loss: 610.84; 1.12  [    0/  600]\n",
      "loss: 579.43; 1.07  [   10/  600]\n",
      "Epoch 6\n",
      "-------------------------------\n",
      "loss: 577.32; 1.06  [    0/  600]\n",
      "loss: 547.19; 1.01  [   10/  600]\n",
      "Epoch 7\n",
      "-------------------------------\n",
      "loss: 545.15; 1.00  [    0/  600]\n",
      "loss: 516.97; 0.95  [   10/  600]\n",
      "Epoch 8\n",
      "-------------------------------\n",
      "loss: 515.92; 0.95  [    0/  600]\n",
      "loss: 488.32; 0.90  [   10/  600]\n",
      "Epoch 9\n",
      "-------------------------------\n",
      "loss: 486.00; 0.89  [    0/  600]\n",
      "loss: 459.14; 0.84  [   10/  600]\n",
      "Epoch 10\n",
      "-------------------------------\n",
      "loss: 456.77; 0.84  [    0/  600]\n",
      "loss: 431.21; 0.79  [   10/  600]\n",
      "Epoch 11\n",
      "-------------------------------\n",
      "loss: 428.92; 0.79  [    0/  600]\n",
      "loss: 403.58; 0.74  [   10/  600]\n",
      "Epoch 12\n",
      "-------------------------------\n",
      "loss: 401.11; 0.74  [    0/  600]\n",
      "loss: 376.82; 0.69  [   10/  600]\n",
      "Epoch 13\n",
      "-------------------------------\n",
      "loss: 374.30; 0.69  [    0/  600]\n",
      "loss: 349.88; 0.64  [   10/  600]\n",
      "Epoch 14\n",
      "-------------------------------\n",
      "loss: 347.07; 0.64  [    0/  600]\n",
      "loss: 323.08; 0.59  [   10/  600]\n",
      "Epoch 15\n",
      "-------------------------------\n",
      "loss: 320.56; 0.59  [    0/  600]\n",
      "loss: 296.19; 0.55  [   10/  600]\n",
      "Epoch 16\n",
      "-------------------------------\n",
      "loss: 293.60; 0.54  [    0/  600]\n",
      "loss: 270.04; 0.50  [   10/  600]\n",
      "Epoch 17\n",
      "-------------------------------\n",
      "loss: 267.24; 0.49  [    0/  600]\n",
      "loss: 240.57; 0.44  [   10/  600]\n",
      "Epoch 18\n",
      "-------------------------------\n",
      "loss: 236.97; 0.44  [    0/  600]\n",
      "loss: 194.35; 0.36  [   10/  600]\n",
      "Epoch 19\n",
      "-------------------------------\n",
      "loss: 190.88; 0.35  [    0/  600]\n",
      "loss: 159.74; 0.29  [   10/  600]\n",
      "Epoch 20\n",
      "-------------------------------\n",
      "loss: 157.74; 0.29  [    0/  600]\n",
      "loss: 130.30; 0.24  [   10/  600]\n",
      "Epoch 21\n",
      "-------------------------------\n",
      "loss: 127.74; 0.24  [    0/  600]\n",
      "loss: 103.01; 0.19  [   10/  600]\n",
      "Epoch 22\n",
      "-------------------------------\n",
      "loss: 101.56; 0.19  [    0/  600]\n",
      "loss: 73.28; 0.13  [   10/  600]\n",
      "Epoch 23\n",
      "-------------------------------\n",
      "loss: 71.78; 0.13  [    0/  600]\n",
      "loss: 48.89; 0.09  [   10/  600]\n",
      "Epoch 24\n",
      "-------------------------------\n",
      "loss: 48.64; 0.09  [    0/  600]\n",
      "loss: 21.29; 0.04  [   10/  600]\n",
      "Epoch 25\n",
      "-------------------------------\n",
      "loss: 19.09; 0.04  [    0/  600]\n",
      "loss: -7.89; -0.01  [   10/  600]\n",
      "Epoch 26\n",
      "-------------------------------\n",
      "loss: -10.23; -0.02  [    0/  600]\n",
      "loss: -34.93; -0.06  [   10/  600]\n",
      "Epoch 27\n",
      "-------------------------------\n",
      "loss: -37.32; -0.07  [    0/  600]\n",
      "loss: -60.67; -0.11  [   10/  600]\n",
      "Epoch 28\n",
      "-------------------------------\n",
      "loss: -63.51; -0.12  [    0/  600]\n",
      "loss: -89.53; -0.16  [   10/  600]\n",
      "Epoch 29\n",
      "-------------------------------\n",
      "loss: -91.16; -0.17  [    0/  600]\n",
      "loss: -114.65; -0.21  [   10/  600]\n",
      "Epoch 30\n",
      "-------------------------------\n",
      "loss: -116.92; -0.22  [    0/  600]\n",
      "loss: -141.66; -0.26  [   10/  600]\n",
      "Epoch 31\n",
      "-------------------------------\n",
      "loss: -142.26; -0.26  [    0/  600]\n",
      "loss: -161.01; -0.30  [   10/  600]\n",
      "Epoch 32\n",
      "-------------------------------\n",
      "loss: -166.52; -0.31  [    0/  600]\n",
      "loss: -191.94; -0.35  [   10/  600]\n",
      "Epoch 33\n",
      "-------------------------------\n",
      "loss: -192.49; -0.35  [    0/  600]\n",
      "loss: -215.02; -0.40  [   10/  600]\n",
      "Epoch 34\n",
      "-------------------------------\n",
      "loss: -214.38; -0.39  [    0/  600]\n",
      "loss: -239.23; -0.44  [   10/  600]\n",
      "Epoch 35\n",
      "-------------------------------\n",
      "loss: -240.66; -0.44  [    0/  600]\n",
      "loss: -267.86; -0.49  [   10/  600]\n",
      "Epoch 36\n",
      "-------------------------------\n",
      "loss: -267.73; -0.49  [    0/  600]\n",
      "loss: -292.47; -0.54  [   10/  600]\n",
      "Epoch 37\n",
      "-------------------------------\n",
      "loss: -290.20; -0.53  [    0/  600]\n",
      "loss: -303.94; -0.56  [   10/  600]\n",
      "Epoch 38\n",
      "-------------------------------\n",
      "loss: -310.10; -0.57  [    0/  600]\n",
      "loss: -331.76; -0.61  [   10/  600]\n",
      "Epoch 39\n",
      "-------------------------------\n",
      "loss: -334.44; -0.62  [    0/  600]\n",
      "loss: -359.64; -0.66  [   10/  600]\n",
      "Epoch 40\n",
      "-------------------------------\n",
      "loss: -360.87; -0.66  [    0/  600]\n",
      "loss: -388.13; -0.71  [   10/  600]\n",
      "Epoch 41\n",
      "-------------------------------\n",
      "loss: -389.41; -0.72  [    0/  600]\n",
      "loss: -413.00; -0.76  [   10/  600]\n",
      "Epoch 42\n",
      "-------------------------------\n",
      "loss: -414.88; -0.76  [    0/  600]\n",
      "loss: -436.16; -0.80  [   10/  600]\n",
      "Epoch 43\n",
      "-------------------------------\n",
      "loss: -437.24; -0.80  [    0/  600]\n",
      "loss: -460.27; -0.85  [   10/  600]\n",
      "Epoch 44\n",
      "-------------------------------\n",
      "loss: -459.43; -0.85  [    0/  600]\n",
      "loss: -479.72; -0.88  [   10/  600]\n",
      "Epoch 45\n",
      "-------------------------------\n",
      "loss: -477.41; -0.88  [    0/  600]\n",
      "loss: -498.39; -0.92  [   10/  600]\n",
      "Epoch 46\n",
      "-------------------------------\n",
      "loss: -492.44; -0.91  [    0/  600]\n",
      "loss: -524.13; -0.96  [   10/  600]\n",
      "Epoch 47\n",
      "-------------------------------\n",
      "loss: -521.56; -0.96  [    0/  600]\n",
      "loss: -542.66; -1.00  [   10/  600]\n",
      "Epoch 48\n",
      "-------------------------------\n",
      "loss: -542.61; -1.00  [    0/  600]\n",
      "loss: -566.17; -1.04  [   10/  600]\n",
      "Epoch 49\n",
      "-------------------------------\n",
      "loss: -564.67; -1.04  [    0/  600]\n",
      "loss: -589.28; -1.08  [   10/  600]\n",
      "Epoch 50\n",
      "-------------------------------\n",
      "loss: -589.80; -1.09  [    0/  600]\n"
     ]
    },
    {
     "ename": "KeyboardInterrupt",
     "evalue": "",
     "output_type": "error",
     "traceback": [
      "\u001b[0;31m---------------------------------------------------------------------------\u001b[0m",
      "\u001b[0;31mKeyboardInterrupt\u001b[0m                         Traceback (most recent call last)",
      "\u001b[0;32m<ipython-input-370-26e653748b2f>\u001b[0m in \u001b[0;36m<module>\u001b[0;34m()\u001b[0m\n\u001b[1;32m     13\u001b[0m     \u001b[0mtrain_loader\u001b[0m \u001b[0;34m=\u001b[0m \u001b[0mDataLoader\u001b[0m\u001b[0;34m(\u001b[0m\u001b[0mtrain_dataset\u001b[0m\u001b[0;34m,\u001b[0m \u001b[0mbatch_size\u001b[0m\u001b[0;34m=\u001b[0m\u001b[0mbatch_size\u001b[0m\u001b[0;34m,\u001b[0m \u001b[0mshuffle\u001b[0m\u001b[0;34m=\u001b[0m\u001b[0;32mFalse\u001b[0m\u001b[0;34m)\u001b[0m \u001b[0;31m#shuffle=True)\u001b[0m\u001b[0;34m\u001b[0m\u001b[0m\n\u001b[1;32m     14\u001b[0m     \u001b[0mprint\u001b[0m\u001b[0;34m(\u001b[0m\u001b[0;34mf\"Epoch {t+1}\\n-------------------------------\"\u001b[0m\u001b[0;34m)\u001b[0m\u001b[0;34m\u001b[0m\u001b[0m\n\u001b[0;32m---> 15\u001b[0;31m     \u001b[0mtrain_loop\u001b[0m\u001b[0;34m(\u001b[0m\u001b[0mtrain_loader\u001b[0m\u001b[0;34m,\u001b[0m \u001b[0mmodel\u001b[0m\u001b[0;34m,\u001b[0m \u001b[0mloss_fn\u001b[0m\u001b[0;34m,\u001b[0m \u001b[0moptimizer\u001b[0m\u001b[0;34m)\u001b[0m\u001b[0;34m\u001b[0m\u001b[0m\n\u001b[0m\u001b[1;32m     16\u001b[0m     \u001b[0;31m# TODO FIX ME\u001b[0m\u001b[0;34m\u001b[0m\u001b[0;34m\u001b[0m\u001b[0m\n\u001b[1;32m     17\u001b[0m     \u001b[0;31m#test_loop(test_loader, model, loss_fn)\u001b[0m\u001b[0;34m\u001b[0m\u001b[0;34m\u001b[0m\u001b[0m\n",
      "\u001b[0;32m<ipython-input-369-01f3b33dd9ff>\u001b[0m in \u001b[0;36mtrain_loop\u001b[0;34m(dataloader, model, loss_fn, optimizer, report_iters, num_pixels)\u001b[0m\n\u001b[1;32m     16\u001b[0m \u001b[0;34m\u001b[0m\u001b[0m\n\u001b[1;32m     17\u001b[0m         \u001b[0mprev\u001b[0m \u001b[0;34m=\u001b[0m \u001b[0;34m[\u001b[0m\u001b[0;34m(\u001b[0m\u001b[0mname\u001b[0m\u001b[0;34m,\u001b[0m \u001b[0mx\u001b[0m\u001b[0;34m,\u001b[0m \u001b[0mx\u001b[0m\u001b[0;34m.\u001b[0m\u001b[0mgrad\u001b[0m\u001b[0;34m)\u001b[0m \u001b[0;32mfor\u001b[0m \u001b[0mname\u001b[0m\u001b[0;34m,\u001b[0m \u001b[0mx\u001b[0m \u001b[0;32min\u001b[0m \u001b[0mmodel\u001b[0m\u001b[0;34m.\u001b[0m\u001b[0mnamed_parameters\u001b[0m\u001b[0;34m(\u001b[0m\u001b[0mrecurse\u001b[0m\u001b[0;34m=\u001b[0m\u001b[0;32mTrue\u001b[0m\u001b[0;34m)\u001b[0m\u001b[0;34m]\u001b[0m\u001b[0;34m\u001b[0m\u001b[0m\n\u001b[0;32m---> 18\u001b[0;31m         \u001b[0moptimizer\u001b[0m\u001b[0;34m.\u001b[0m\u001b[0mstep\u001b[0m\u001b[0;34m(\u001b[0m\u001b[0;34m)\u001b[0m\u001b[0;34m\u001b[0m\u001b[0m\n\u001b[0m\u001b[1;32m     19\u001b[0m \u001b[0;34m\u001b[0m\u001b[0m\n\u001b[1;32m     20\u001b[0m         \u001b[0;32mif\u001b[0m \u001b[0mbatch\u001b[0m \u001b[0;34m%\u001b[0m \u001b[0mreport_iters\u001b[0m \u001b[0;34m==\u001b[0m \u001b[0;36m0\u001b[0m\u001b[0;34m:\u001b[0m\u001b[0;34m\u001b[0m\u001b[0m\n",
      "\u001b[0;32m~/anaconda3/lib/python3.6/site-packages/torch/optim/optimizer.py\u001b[0m in \u001b[0;36mwrapper\u001b[0;34m(*args, **kwargs)\u001b[0m\n\u001b[1;32m     86\u001b[0m                 \u001b[0mprofile_name\u001b[0m \u001b[0;34m=\u001b[0m \u001b[0;34m\"Optimizer.step#{}.step\"\u001b[0m\u001b[0;34m.\u001b[0m\u001b[0mformat\u001b[0m\u001b[0;34m(\u001b[0m\u001b[0mobj\u001b[0m\u001b[0;34m.\u001b[0m\u001b[0m__class__\u001b[0m\u001b[0;34m.\u001b[0m\u001b[0m__name__\u001b[0m\u001b[0;34m)\u001b[0m\u001b[0;34m\u001b[0m\u001b[0m\n\u001b[1;32m     87\u001b[0m                 \u001b[0;32mwith\u001b[0m \u001b[0mtorch\u001b[0m\u001b[0;34m.\u001b[0m\u001b[0mautograd\u001b[0m\u001b[0;34m.\u001b[0m\u001b[0mprofiler\u001b[0m\u001b[0;34m.\u001b[0m\u001b[0mrecord_function\u001b[0m\u001b[0;34m(\u001b[0m\u001b[0mprofile_name\u001b[0m\u001b[0;34m)\u001b[0m\u001b[0;34m:\u001b[0m\u001b[0;34m\u001b[0m\u001b[0m\n\u001b[0;32m---> 88\u001b[0;31m                     \u001b[0;32mreturn\u001b[0m \u001b[0mfunc\u001b[0m\u001b[0;34m(\u001b[0m\u001b[0;34m*\u001b[0m\u001b[0margs\u001b[0m\u001b[0;34m,\u001b[0m \u001b[0;34m**\u001b[0m\u001b[0mkwargs\u001b[0m\u001b[0;34m)\u001b[0m\u001b[0;34m\u001b[0m\u001b[0m\n\u001b[0m\u001b[1;32m     89\u001b[0m             \u001b[0;32mreturn\u001b[0m \u001b[0mwrapper\u001b[0m\u001b[0;34m\u001b[0m\u001b[0m\n\u001b[1;32m     90\u001b[0m \u001b[0;34m\u001b[0m\u001b[0m\n",
      "\u001b[0;32m~/anaconda3/lib/python3.6/site-packages/torch/autograd/grad_mode.py\u001b[0m in \u001b[0;36mdecorate_context\u001b[0;34m(*args, **kwargs)\u001b[0m\n\u001b[1;32m     26\u001b[0m         \u001b[0;32mdef\u001b[0m \u001b[0mdecorate_context\u001b[0m\u001b[0;34m(\u001b[0m\u001b[0;34m*\u001b[0m\u001b[0margs\u001b[0m\u001b[0;34m,\u001b[0m \u001b[0;34m**\u001b[0m\u001b[0mkwargs\u001b[0m\u001b[0;34m)\u001b[0m\u001b[0;34m:\u001b[0m\u001b[0;34m\u001b[0m\u001b[0m\n\u001b[1;32m     27\u001b[0m             \u001b[0;32mwith\u001b[0m \u001b[0mself\u001b[0m\u001b[0;34m.\u001b[0m\u001b[0m__class__\u001b[0m\u001b[0;34m(\u001b[0m\u001b[0;34m)\u001b[0m\u001b[0;34m:\u001b[0m\u001b[0;34m\u001b[0m\u001b[0m\n\u001b[0;32m---> 28\u001b[0;31m                 \u001b[0;32mreturn\u001b[0m \u001b[0mfunc\u001b[0m\u001b[0;34m(\u001b[0m\u001b[0;34m*\u001b[0m\u001b[0margs\u001b[0m\u001b[0;34m,\u001b[0m \u001b[0;34m**\u001b[0m\u001b[0mkwargs\u001b[0m\u001b[0;34m)\u001b[0m\u001b[0;34m\u001b[0m\u001b[0m\n\u001b[0m\u001b[1;32m     29\u001b[0m         \u001b[0;32mreturn\u001b[0m \u001b[0mcast\u001b[0m\u001b[0;34m(\u001b[0m\u001b[0mF\u001b[0m\u001b[0;34m,\u001b[0m \u001b[0mdecorate_context\u001b[0m\u001b[0;34m)\u001b[0m\u001b[0;34m\u001b[0m\u001b[0m\n\u001b[1;32m     30\u001b[0m \u001b[0;34m\u001b[0m\u001b[0m\n",
      "\u001b[0;32m~/anaconda3/lib/python3.6/site-packages/torch/optim/adam.py\u001b[0m in \u001b[0;36mstep\u001b[0;34m(self, closure)\u001b[0m\n\u001b[1;32m    142\u001b[0m                    \u001b[0mlr\u001b[0m\u001b[0;34m=\u001b[0m\u001b[0mgroup\u001b[0m\u001b[0;34m[\u001b[0m\u001b[0;34m'lr'\u001b[0m\u001b[0;34m]\u001b[0m\u001b[0;34m,\u001b[0m\u001b[0;34m\u001b[0m\u001b[0m\n\u001b[1;32m    143\u001b[0m                    \u001b[0mweight_decay\u001b[0m\u001b[0;34m=\u001b[0m\u001b[0mgroup\u001b[0m\u001b[0;34m[\u001b[0m\u001b[0;34m'weight_decay'\u001b[0m\u001b[0;34m]\u001b[0m\u001b[0;34m,\u001b[0m\u001b[0;34m\u001b[0m\u001b[0m\n\u001b[0;32m--> 144\u001b[0;31m                    eps=group['eps'])\n\u001b[0m\u001b[1;32m    145\u001b[0m         \u001b[0;32mreturn\u001b[0m \u001b[0mloss\u001b[0m\u001b[0;34m\u001b[0m\u001b[0m\n",
      "\u001b[0;32m~/anaconda3/lib/python3.6/site-packages/torch/optim/_functional.py\u001b[0m in \u001b[0;36madam\u001b[0;34m(params, grads, exp_avgs, exp_avg_sqs, max_exp_avg_sqs, state_steps, amsgrad, beta1, beta2, lr, weight_decay, eps)\u001b[0m\n\u001b[1;32m     84\u001b[0m \u001b[0;34m\u001b[0m\u001b[0m\n\u001b[1;32m     85\u001b[0m         \u001b[0;31m# Decay the first and second moment running average coefficient\u001b[0m\u001b[0;34m\u001b[0m\u001b[0;34m\u001b[0m\u001b[0m\n\u001b[0;32m---> 86\u001b[0;31m         \u001b[0mexp_avg\u001b[0m\u001b[0;34m.\u001b[0m\u001b[0mmul_\u001b[0m\u001b[0;34m(\u001b[0m\u001b[0mbeta1\u001b[0m\u001b[0;34m)\u001b[0m\u001b[0;34m.\u001b[0m\u001b[0madd_\u001b[0m\u001b[0;34m(\u001b[0m\u001b[0mgrad\u001b[0m\u001b[0;34m,\u001b[0m \u001b[0malpha\u001b[0m\u001b[0;34m=\u001b[0m\u001b[0;36m1\u001b[0m \u001b[0;34m-\u001b[0m \u001b[0mbeta1\u001b[0m\u001b[0;34m)\u001b[0m\u001b[0;34m\u001b[0m\u001b[0m\n\u001b[0m\u001b[1;32m     87\u001b[0m         \u001b[0mexp_avg_sq\u001b[0m\u001b[0;34m.\u001b[0m\u001b[0mmul_\u001b[0m\u001b[0;34m(\u001b[0m\u001b[0mbeta2\u001b[0m\u001b[0;34m)\u001b[0m\u001b[0;34m.\u001b[0m\u001b[0maddcmul_\u001b[0m\u001b[0;34m(\u001b[0m\u001b[0mgrad\u001b[0m\u001b[0;34m,\u001b[0m \u001b[0mgrad\u001b[0m\u001b[0;34m.\u001b[0m\u001b[0mconj\u001b[0m\u001b[0;34m(\u001b[0m\u001b[0;34m)\u001b[0m\u001b[0;34m,\u001b[0m \u001b[0mvalue\u001b[0m\u001b[0;34m=\u001b[0m\u001b[0;36m1\u001b[0m \u001b[0;34m-\u001b[0m \u001b[0mbeta2\u001b[0m\u001b[0;34m)\u001b[0m\u001b[0;34m\u001b[0m\u001b[0m\n\u001b[1;32m     88\u001b[0m         \u001b[0;32mif\u001b[0m \u001b[0mamsgrad\u001b[0m\u001b[0;34m:\u001b[0m\u001b[0;34m\u001b[0m\u001b[0m\n",
      "\u001b[0;31mKeyboardInterrupt\u001b[0m: "
     ]
    }
   ],
   "source": [
    "learning_rate = 0.001\n",
    "batch_size = 100\n",
    "epochs = 200\n",
    "\n",
    "model = NormalizingFlowMNist(6, 64).to(device)\n",
    "optimizer = torch.optim.Adam(model.parameters(), lr=learning_rate)\n",
    "\n",
    "train_loader = DataLoader(train_dataset, batch_size=batch_size, shuffle=False) #shuffle=True)\n",
    "test_loader = DataLoader(test_dataset, batch_size=batch_size,  shuffle=False) #shuffle=True)\n",
    "\n",
    "for t in range(epochs):\n",
    "    #TODO FIX ME\n",
    "    train_loader = DataLoader(train_dataset, batch_size=batch_size, shuffle=False) #shuffle=True)\n",
    "    print(f\"Epoch {t+1}\\n-------------------------------\")\n",
    "    train_loop(train_loader, model, loss_fn, optimizer)\n",
    "    # TODO FIX ME\n",
    "    #test_loop(test_loader, model, loss_fn)\n",
    "\n",
    "print(\"Done!\")"
   ]
  },
  {
   "cell_type": "code",
   "execution_count": 371,
   "metadata": {
    "ExecuteTime": {
     "end_time": "2022-02-13T02:34:02.680345Z",
     "start_time": "2022-02-13T02:34:02.544395Z"
    }
   },
   "outputs": [
    {
     "data": {
      "text/plain": [
       "tensor(False, device='cuda:0')"
      ]
     },
     "execution_count": 371,
     "metadata": {},
     "output_type": "execute_result"
    }
   ],
   "source": [
    "# DEBUG\n",
    "\n",
    "model.train()\n",
    "with torch.no_grad():\n",
    "    train_loader = DataLoader(train_dataset, batch_size=batch_size, shuffle=False) #shuffle=True)\n",
    "    for x, _ in train_loader:\n",
    "        x_pre = pre_process(x).to(device)\n",
    "        y, s, scale = model(x_pre)\n",
    "        break\n",
    "\n",
    "model.eval()\n",
    "with torch.no_grad():\n",
    "    xp = model(y)\n",
    "    x_post = post_process(xp)\n",
    "\n",
    "diff = x.to(device) - x_post\n",
    "torch.any(torch.abs(diff) > 1e-4)"
   ]
  },
  {
   "cell_type": "code",
   "execution_count": 372,
   "metadata": {
    "ExecuteTime": {
     "end_time": "2022-02-13T02:34:03.541742Z",
     "start_time": "2022-02-13T02:34:03.526274Z"
    }
   },
   "outputs": [
    {
     "name": "stdout",
     "output_type": "stream",
     "text": [
      "torch.Size([100, 1, 28, 28])\n"
     ]
    }
   ],
   "source": [
    "print(diff.shape)\n",
    "\n",
    "for i in range(100):\n",
    "    if torch.any(torch.abs(diff[i]) > 1e-4):\n",
    "        #print(diff[i])\n",
    "        for j in range(28):\n",
    "            for k in range(28):\n",
    "                if torch.any(torch.abs(diff[i, 0, j, k]) > 1e-4):\n",
    "                    print(i, 1, j, k, diff[i, 0, j, k].cpu().numpy())\n",
    "        break"
   ]
  },
  {
   "cell_type": "code",
   "execution_count": 373,
   "metadata": {
    "ExecuteTime": {
     "end_time": "2022-02-13T02:34:04.186019Z",
     "start_time": "2022-02-13T02:34:03.989106Z"
    }
   },
   "outputs": [
    {
     "name": "stdout",
     "output_type": "stream",
     "text": [
      "count    78400.000000\n",
      "mean        -0.037197\n",
      "std          0.353464\n",
      "min         -5.185518\n",
      "25%         -0.107925\n",
      "50%         -0.032783\n",
      "75%          0.013340\n",
      "max          5.255050\n",
      "dtype: float64\n"
     ]
    },
    {
     "data": {
      "text/plain": [
       "<matplotlib.axes._subplots.AxesSubplot at 0x7f43f50e2978>"
      ]
     },
     "execution_count": 373,
     "metadata": {},
     "output_type": "execute_result"
    },
    {
     "data": {
      "image/png": "[encoded data removed]",
      "text/plain": [
       "<Figure size 432x288 with 1 Axes>"
      ]
     },
     "metadata": {},
     "output_type": "display_data"
    }
   ],
   "source": [
    "s = pd.Series(torch.flatten(y).cpu().numpy())\n",
    "print(s.describe())\n",
    "s.hist(bins=50)"
   ]
  },
  {
   "cell_type": "code",
   "execution_count": 374,
   "metadata": {
    "ExecuteTime": {
     "end_time": "2022-02-13T02:34:05.151331Z",
     "start_time": "2022-02-13T02:34:04.832958Z"
    },
    "scrolled": false
   },
   "outputs": [
    {
     "data": {
      "image/png": "[encoded data removed]",
      "text/plain": [
       "<Figure size 576x576 with 9 Axes>"
      ]
     },
     "metadata": {},
     "output_type": "display_data"
    }
   ],
   "source": [
    "figure = plt.figure(figsize=(8, 8))\n",
    "cols, rows = 3, 3\n",
    "for i in range(1, cols * rows + 1):\n",
    "    # TODO FIX ME\n",
    "    #sample_idx = torch.randint(len(train_dataset), size=(1,)).item()\n",
    "    sample_idx = 0\n",
    "    img, label = train_dataset[sample_idx]\n",
    "    figure.add_subplot(rows, cols, i)\n",
    "    plt.title(str(label))\n",
    "    plt.axis(\"off\")\n",
    "    plt.imshow(img.squeeze(), cmap=\"gray\")\n",
    "plt.show()"
   ]
  },
  {
   "cell_type": "code",
   "execution_count": 375,
   "metadata": {
    "ExecuteTime": {
     "end_time": "2022-02-13T02:34:06.453922Z",
     "start_time": "2022-02-13T02:34:06.427894Z"
    }
   },
   "outputs": [],
   "source": [
    "model.eval()\n",
    "with torch.no_grad():\n",
    "    X = torch.Tensor(torch.randn((1, 4, 14, 14))).to(device)\n",
    "    Y = model(X)\n",
    "    samples = post_process(Y).cpu().numpy()"
   ]
  },
  {
   "cell_type": "code",
   "execution_count": 376,
   "metadata": {
    "ExecuteTime": {
     "end_time": "2022-02-13T02:34:06.688233Z",
     "start_time": "2022-02-13T02:34:06.685220Z"
    }
   },
   "outputs": [],
   "source": [
    "#Y"
   ]
  },
  {
   "cell_type": "code",
   "execution_count": 377,
   "metadata": {
    "ExecuteTime": {
     "end_time": "2022-02-13T02:34:06.920859Z",
     "start_time": "2022-02-13T02:34:06.917578Z"
    }
   },
   "outputs": [],
   "source": [
    "#train_dataset[0][0]\n",
    "#samples[0, 0]"
   ]
  },
  {
   "cell_type": "code",
   "execution_count": 378,
   "metadata": {
    "ExecuteTime": {
     "end_time": "2022-02-13T02:34:07.472833Z",
     "start_time": "2022-02-13T02:34:07.145338Z"
    }
   },
   "outputs": [
    {
     "data": {
      "image/png": "[encoded data removed]",
      "text/plain": [
       "<Figure size 576x576 with 9 Axes>"
      ]
     },
     "metadata": {},
     "output_type": "display_data"
    }
   ],
   "source": [
    "model.eval()\n",
    "\n",
    "cols, rows = 3, 3\n",
    "with torch.no_grad():\n",
    "    X = torch.Tensor(torch.normal(torch.zeros(cols * rows, 4, 14, 14), \n",
    "                                  torch.ones(cols * rows, 4, 14, 14))).to(device)\n",
    "    #X = torch.Tensor(torch.zeros(cols * rows, 4, 14, 14)).to(device)\n",
    "    Y = model(X)\n",
    "    samples = post_process(Y).cpu().numpy()\n",
    "\n",
    "figure = plt.figure(figsize=(8, 8))\n",
    "for i in range(1, cols * rows + 1):\n",
    "    img = samples[i - 1]\n",
    "    figure.add_subplot(rows, cols, i)\n",
    "    plt.axis(\"off\")\n",
    "    plt.imshow(img.squeeze(), cmap=\"gray\")\n",
    "plt.show()"
   ]
  },
  {
   "cell_type": "code",
   "execution_count": null,
   "metadata": {},
   "outputs": [],
   "source": []
  },
  {
   "attachments": {
    "image.png": {
     "image/png": "[encoded data removed]"
    }
   },
   "cell_type": "markdown",
   "metadata": {},
   "source": [
    "# 2022-02-12\n",
    "\n",
    "* Implemented the multi-scale architecture (with just one iteration)\n",
    "    * 3 checkerboard, squeeze, 3 channel\n",
    "* I can *sort of* overfit on a single image, but if I try to increase number of images, I still don't get anything that resembles a number.\n",
    "    * My conclusion is that checkboard alone cannot model an overal image, esp. if you are just going back and forth on the same variables.\n",
    "    * You want some mixing of variables (not just swapping back and forth), especially because these are affine transformations.\n",
    "    * Additionally, since the original # of channels = 1 (greyscale image), the conv operation is probably not doing much, as opposed to after squeeze, you have many more channels to work with\n",
    "* However... it does suggest something more plausible:\n",
    "    * Some center of mass\n",
    "    * Very dark and/or light pixels\n",
    "* NEXT:\n",
    "    * Try to implement more than one iteration of multi-scale architecture\n",
    "    * AND partition out some vars after each iteration (like the paper)\n",
    "    * Supposedly the lower Gaussians model the coarse detail, while the later ones will model finer detail\n",
    "    * If that is true, then it explains why I just get a big blob in the center\n",
    "\n",
    "\n",
    "![image.png](attachment:image.png)"
   ]
  },
  {
   "attachments": {
    "image.png": {
     "image/png": "[encoded data removed]"
    }
   },
   "cell_type": "markdown",
   "metadata": {},
   "source": [
    "# 2022-02-10\n",
    "\n",
    "* Tried adding scale/bias parameters to make affine transform in the \"t\" var -- didn't really do anything\n",
    "* Tried to overfit on a **single** image\n",
    "    * By sampling from zeros(.), I can generate something *close* to the original image (not a perfect match) has a bit of noise still\n",
    "    * Strange I can't get a better fit... why is there still so much noise?\n",
    "\n",
    "![image.png](attachment:image.png)\n",
    "\n",
    "* Tried removing U(0,1) pixel noise -- didn't seem to work\n",
    "* Tried removing determinant from loss function -- didn't seem work\n",
    "* Tried removing this post-processing -- get a much clearer image ???\n",
    "* Tried training with 10 images -- get garbage when sampling from normal (but lots of 0/255)\n",
    "\n",
    "INVESTIGATE: \n",
    "\n",
    "* What is going on with post-processing?\n",
    "* Why doesn't training with 10 images work?\n",
    "    "
   ]
  },
  {
   "cell_type": "markdown",
   "metadata": {},
   "source": [
    "# 2022-02-05\n",
    "\n",
    "* Looks like the inverse operation is working as expected:\n",
    "  * Pass in a vector in forward pass pixels -> pre_process -> gaussian -> post_process -> pixels and get the same number (with some small 10e-8 errors, also had some 10-3 errors but much more seldom)\n",
    "* Added L2 regularizer on s_scale param, not much changed\n",
    "* I keep getting a shifted distribution (negative mean) and less than 1 std when I take a batch of training and pass it through a forward pass to get z\n",
    "  * Tried removing the det terms and it still looks skewed\n",
    "* INVESTIGATE: This seems like it's relevant because if I'm sampling from a 0-mean Gaussian but real examples always end up shifted left, then of course I'm going to generate bad images\n",
    "* ANOTHER IDEA: overfit on a much smaller training set (10, 100 images)"
   ]
  },
  {
   "cell_type": "markdown",
   "metadata": {},
   "source": [
    "# 2022-02-02\n",
    "\n",
    "* Implemented post-processing to convert back to pixel space but still seems like I'm getting garbage, need to debug further.\n",
    "* Ideas to double check:\n",
    "    * loss function\n",
    "    * inverse operation (should check back and forwards give the same answer)\n",
    "    * Check that forward pass actually gives something Gaussian like..."
   ]
  },
  {
   "attachments": {
    "image.png": {
     "image/png": "[encoded data removed]"
    }
   },
   "cell_type": "markdown",
   "metadata": {},
   "source": [
    "# 2022-02-01\n",
    "\n",
    "* Finally got around to actually generating images... and they are just noise!\n",
    "* Might be a bug in the network, might be that I need to increase capacity of network.  Now the fun starts!\n",
    "    * I might also have to add the \"multi-scale architecture\"\n",
    "    * Another issue might be the batch-norm layers, which probably behave very differently in testing -- I actually did comment it out.\n",
    "    \n",
    "    \n",
    "I NEED TO CONVERT BACK TO PIXEL SPACE!!!!\n",
    "\n",
    "![image.png](attachment:image.png)"
   ]
  },
  {
   "cell_type": "markdown",
   "metadata": {},
   "source": [
    "# 2022-01-31\n",
    "\n",
    "* The negative values are coming from determinant because log |df/dx| = log(|exp(s)|) = s\n",
    "* So the loss is essentially trying to make `s` very large (more negative).\n",
    "* Theoretically, it's possible by allowing the unmasked variables to almost exactly predict the masked variables, so you could multiply by a large number s(unmasked) vars, and adjust by t(unmasked) = -s(unmasked) * unmasked, to get the maximum s*masked_x - t = s*unmasked_x - s*unmasked_x = 0, which is the maximum density point for the Gaussian\n",
    "* Need to look into how the determinant (i.e. s) is be generated.  From prelim debugging above, it looks like it's generating a lot of zeros (even in unmasked positions), so I have to sort out why that's the case.\n",
    "\n",
    "Wait... found a bug.  I was putting the determinant as `mask * s` instead of the correct `(1 - mask) * s`.\n"
   ]
  },
  {
   "cell_type": "markdown",
   "metadata": {},
   "source": [
    "# 2022-01-29\n",
    "\n",
    "* Getting lots of NaNs -- debugged a bunch of things:\n",
    "    * Removed Resnet\n",
    "    * Removed exp()\n",
    "    * Made forward pass a simple feedforward\n",
    "* But it looks like issue is the data???    \n",
    "    * The stupid paper said the transform should be `logit(alpha + (1-alpha)*x/256)`...\n",
    "    * Data is originally in [0,1] (pytorch dataset)\n",
    "    * Convert back to pixels multiply by 255\n",
    "    * Add jitter to get upper bound on bits per pixel (see my post)\n",
    "    * Range is now [0, 256]\n",
    "    * Suggested alpha=0.05 (I had a bug and used 0.5)\n",
    "    * But that gets you really close to 256 (jitter is always less than 1.0 though) e.g.i logit(0.05 + 0.95 * ~255.99/256) ~= \\inf!\n",
    "    * Instead, I used this `logit(alpha + (1-alpha - 0.05)*x/256)`, which is symmetrical...\n",
    "    \n",
    "NEXT STEPS:\n",
    "* So things look good now, except that I get a negative loss, which shouldn't happen (after applying jitter)???\n",
    "    * It's because I need a new uniform noise sample per EPOCH???\n",
    "    * Or is it because I'm using continuous variables on the output?  So maybe I just need to measure this \"loss\" when I reverse the network?  \n",
    "        * It's probably this... if it's a continuous output, the log density surely doesn't need to be positive (vs. if I were directly outputting pixel values).\n",
    "        \n",
    "        \n",
    "I THINK I FIGURED IT OUT:  IT's becuase I didn't have the 1/sqrt(2pi) in the log-likelihood!"
   ]
  },
  {
   "cell_type": "code",
   "execution_count": null,
   "metadata": {},
   "outputs": [],
   "source": [
    "pixel_unshuffle = nn.PixelUnshuffle(2)\n",
    "x = np.arange(64).reshape((1, 1, 8, 8))\n",
    "x = torch.tensor(x)\n",
    "print(x.shape)\n",
    "print(x)\n",
    "output = pixel_unshuffle(x)\n",
    "print(output.shape)\n",
    "output"
   ]
  },
  {
   "cell_type": "code",
   "execution_count": null,
   "metadata": {},
   "outputs": [],
   "source": [
    "output[0, :, 0 , 0]"
   ]
  },
  {
   "cell_type": "code",
   "execution_count": null,
   "metadata": {},
   "outputs": [],
   "source": []
  }
 ],
 "metadata": {
  "kernelspec": {
   "display_name": "Python 3",
   "language": "python",
   "name": "python3"
  },
  "language_info": {
   "codemirror_mode": {
    "name": "ipython",
    "version": 3
   },
   "file_extension": ".py",
   "mimetype": "text/x-python",
   "name": "python",
   "nbconvert_exporter": "python",
   "pygments_lexer": "ipython3",
   "version": "3.6.5"
  }
 },
 "nbformat": 4,
 "nbformat_minor": 2
}
