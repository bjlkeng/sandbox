{
 "cells": [
  {
   "cell_type": "code",
   "execution_count": 1,
   "metadata": {
    "ExecuteTime": {
     "end_time": "2022-02-06T02:39:19.024990Z",
     "start_time": "2022-02-06T02:39:17.775162Z"
    }
   },
   "outputs": [],
   "source": [
    "import os\n",
    "import torch\n",
    "import numpy as np\n",
    "import pandas as pd\n",
    "\n",
    "from torch import nn\n",
    "from torch.utils.data import DataLoader, Dataset\n",
    "from torchvision import datasets, transforms\n",
    "from torchvision.transforms import ToTensor, Lambda\n",
    "import matplotlib.pyplot as plt\n"
   ]
  },
  {
   "cell_type": "code",
   "execution_count": 2,
   "metadata": {
    "ExecuteTime": {
     "end_time": "2022-02-06T02:39:19.046646Z",
     "start_time": "2022-02-06T02:39:19.026878Z"
    },
    "scrolled": true
   },
   "outputs": [
    {
     "name": "stdout",
     "output_type": "stream",
     "text": [
      "Cuda available: True\n",
      "Current device: 0\n",
      "Device: cuda:0\n",
      "Device count: 1\n",
      "Device name: GeForce GTX 1070\n"
     ]
    }
   ],
   "source": [
    "available = torch.cuda.is_available()\n",
    "curr_device = torch.cuda.current_device()\n",
    "device = torch.device(\"cuda:0\" if available else \"cpu\")\n",
    "device_count = torch.cuda.device_count() \n",
    "device_name =  torch.cuda.get_device_name(0)\n",
    "\n",
    "print(f'Cuda available: {available}')\n",
    "print(f'Current device: {curr_device}')\n",
    "print(f'Device: {device}')\n",
    "print(f'Device count: {device_count}')\n",
    "print(f'Device name: {device_name}')\n",
    "\n",
    "#device = torch.device(\"cpu\")"
   ]
  },
  {
   "cell_type": "code",
   "execution_count": 3,
   "metadata": {
    "ExecuteTime": {
     "end_time": "2022-02-06T02:39:19.145971Z",
     "start_time": "2022-02-06T02:39:19.048350Z"
    }
   },
   "outputs": [],
   "source": [
    "# (Adapted) Code from PyTorch's Resnet impl: https://github.com/pytorch/vision/blob/main/torchvision/models/resnet.py\n",
    "\n",
    "def conv3x3(in_planes: int, out_planes: int, stride: int = 1, groups: int = 1, dilation: int = 1) -> nn.Conv2d:\n",
    "    \"\"\"3x3 convolution with padding\"\"\"\n",
    "    return nn.Conv2d(\n",
    "        in_planes,\n",
    "        out_planes,\n",
    "        kernel_size=3,\n",
    "        stride=stride,\n",
    "        padding=dilation,\n",
    "        groups=groups,\n",
    "        bias=False,\n",
    "        dilation=dilation,\n",
    "    )\n",
    "\n",
    "\n",
    "def conv1x1(in_planes: int, out_planes: int, stride: int = 1) -> nn.Conv2d:\n",
    "    \"\"\"1x1 convolution\"\"\"\n",
    "    return nn.Conv2d(in_planes, out_planes, kernel_size=1, stride=stride, bias=False)\n",
    "\n",
    "\n",
    "class Bottleneck(nn.Module):\n",
    "    # Bottleneck in torchvision places the stride for downsampling at 3x3 convolution(self.conv2)\n",
    "    # while original implementation places the stride at the first 1x1 convolution(self.conv1)\n",
    "    # according to \"Deep residual learning for image recognition\"https://arxiv.org/abs/1512.03385.\n",
    "    # This variant is also known as ResNet V1.5 and improves accuracy according to\n",
    "    # https://ngc.nvidia.com/catalog/model-scripts/nvidia:resnet_50_v1_5_for_pytorch.\n",
    "\n",
    "    expansion: int = 1\n",
    "\n",
    "    def __init__(\n",
    "        self,\n",
    "        inplanes: int,\n",
    "        planes: int,\n",
    "        stride: int = 1,\n",
    "        downsample = None,\n",
    "        groups: int = 1,\n",
    "        base_width: int = 64,\n",
    "        dilation: int = 1,\n",
    "        norm_layer = None,\n",
    "        use_final_relu = True,\n",
    "    ) -> None:\n",
    "        super().__init__()\n",
    "        if norm_layer is None:\n",
    "            norm_layer = nn.BatchNorm2d\n",
    "        width = int(planes * (base_width / 64.0)) * groups\n",
    "        # Both self.conv2 and self.downsample layers downsample the input when stride != 1\n",
    "        self.conv1 = conv1x1(inplanes, width)\n",
    "        self.bn1 = norm_layer(width)\n",
    "        self.conv2 = conv3x3(width, width, stride, groups, dilation)\n",
    "        self.bn2 = norm_layer(width)\n",
    "        \n",
    "        # BK: Force last layers back to inplanes\n",
    "        self.conv3 = conv1x1(width, inplanes)\n",
    "        self.bn3 = norm_layer(inplanes)\n",
    "        self.relu = nn.ReLU(inplace=True)\n",
    "        self.downsample = downsample\n",
    "        self.stride = stride\n",
    "        \n",
    "        self.use_final_relu = use_final_relu\n",
    "\n",
    "    def forward(self, x):\n",
    "        identity = x\n",
    "\n",
    "        out = self.conv1(x)\n",
    "        #out = self.bn1(out)\n",
    "        out = self.relu(out)\n",
    "\n",
    "        out = self.conv2(out)\n",
    "        #out = self.bn2(out)\n",
    "        out = self.relu(out)\n",
    "\n",
    "        out = self.conv3(out)\n",
    "        #out = self.bn3(out)\n",
    "\n",
    "        if self.downsample is not None:\n",
    "            identity = self.downsample(x)\n",
    "\n",
    "        out += identity\n",
    "        if self.use_final_relu:\n",
    "            out = self.relu(out)\n",
    "\n",
    "        return out"
   ]
  },
  {
   "cell_type": "code",
   "execution_count": 4,
   "metadata": {
    "ExecuteTime": {
     "end_time": "2022-02-06T02:39:19.284903Z",
     "start_time": "2022-02-06T02:39:19.148094Z"
    }
   },
   "outputs": [],
   "source": [
    "class Reshape(nn.Module):\n",
    "    def __init__(self, shape):\n",
    "        super(Reshape, self).__init__()\n",
    "        self.shape = tuple([-1] + list(shape))\n",
    "        \n",
    "    def forward(self, x):\n",
    "        return torch.reshape(x, self.shape)\n",
    "\n",
    "def dense_backbone(shape, network_width):\n",
    "    input_width = shape[0] * shape[1] * shape[2]\n",
    "    return nn.Sequential(\n",
    "        nn.Flatten(),\n",
    "        nn.Linear(input_width, network_width),\n",
    "        nn.ReLU(),\n",
    "        nn.Linear(network_width, input_width),\n",
    "        Reshape(shape)\n",
    "    )\n",
    "\n",
    "def bottleneck_backbone(planes):\n",
    "    return nn.Sequential(\n",
    "        Bottleneck(1, planes),\n",
    "        Bottleneck(1, planes),\n",
    "        Bottleneck(1, planes),\n",
    "        Bottleneck(1, planes, use_final_relu=False),\n",
    "    )\n",
    "\n",
    "mask = {}\n",
    "mask_device = {}\n",
    "def checkerboard_mask(shape, to_device=True):\n",
    "    global mask, mask_device\n",
    "    if shape not in mask:\n",
    "        mask[shape] = 1 - np.indices(shape).sum(axis=0) % 2\n",
    "        mask[shape] = torch.Tensor(mask[shape])\n",
    "        \n",
    "    if to_device and shape not in mask_device:\n",
    "        mask_device[shape] = mask[shape].to(device)\n",
    "        \n",
    "    return mask_device[shape] if to_device else mask[shape]"
   ]
  },
  {
   "cell_type": "code",
   "execution_count": 5,
   "metadata": {
    "ExecuteTime": {
     "end_time": "2022-02-06T02:39:19.401204Z",
     "start_time": "2022-02-06T02:39:19.286673Z"
    }
   },
   "outputs": [],
   "source": [
    "class NormalizingFlowMNist(nn.Module):\n",
    "    EPSILON = 1e-7\n",
    "    \n",
    "    def __init__(self, num_coupling, planes):\n",
    "        super(NormalizingFlowMNist, self).__init__()\n",
    "        self.num_coupling = num_coupling\n",
    "        self.shape = (1, 28, 28)\n",
    "        \n",
    "        self.planes = planes\n",
    "        self.s = nn.ModuleList([bottleneck_backbone(planes) \n",
    "                                for x in range(num_coupling)])\n",
    "        self.t = nn.ModuleList([bottleneck_backbone(planes)\n",
    "                                for x in range(num_coupling)])\n",
    "        \n",
    "        # Learnable scaling parameters for outputs of S\n",
    "        self.s_scale = nn.ParameterList([torch.nn.Parameter(torch.randn(self.shape)) \n",
    "                                         for x in range(num_coupling)])\n",
    "        for i in range(num_coupling):\n",
    "            self.s_scale[i].requires_grad = True\n",
    "            \n",
    "        self.validation = False\n",
    "    \n",
    "    def validate(self):\n",
    "        self.validation = True\n",
    "        self.eval()\n",
    "        \n",
    "    def train(self, mode=True):\n",
    "        nn.Module.train(self, mode)\n",
    "        if mode:\n",
    "            self.validation = False\n",
    "\n",
    "    def forward(self, x):\n",
    "        if model.training or self.validation:\n",
    "            s_vals = []\n",
    "            for i in range(self.num_coupling):\n",
    "                mask = checkerboard_mask(self.shape)\n",
    "                mask = mask if i % 2 == 0 else (1 - mask)\n",
    "               \n",
    "                t = self.t[i](mask * x)\n",
    "                s = (self.s_scale[i]) * torch.tanh(self.s[i](mask * x))\n",
    "                y = mask * x + (1 - mask) * (x * torch.exp(s) + t)\n",
    "                s_vals.append((1 - mask) * s)\n",
    "                \n",
    "                x = y\n",
    "\n",
    "            # Return outputs and vars needed for determinant\n",
    "            return y, torch.cat(s_vals), torch.cat(list(self.s_scale))\n",
    "        else:\n",
    "            y = x\n",
    "            for i in reversed(range(self.num_coupling)):\n",
    "                mask = checkerboard_mask(self.shape)\n",
    "                mask = mask if i % 2 == 0 else (1 - mask)\n",
    "               \n",
    "                t = self.t[i](mask * y)\n",
    "                s = (self.s_scale[i]) * torch.tanh(self.s[i](mask * y))\n",
    "                x = mask * y + (1 - mask) * ((y - t) * torch.exp(-s))\n",
    "                \n",
    "                y = x\n",
    "                \n",
    "            return x"
   ]
  },
  {
   "cell_type": "code",
   "execution_count": 6,
   "metadata": {
    "ExecuteTime": {
     "end_time": "2022-02-06T02:39:21.894901Z",
     "start_time": "2022-02-06T02:39:19.402585Z"
    }
   },
   "outputs": [],
   "source": [
    "PI = torch.tensor(np.pi).to(device)\n",
    "def loss_fn(y, s, scale, batch_size):\n",
    "    # -log(zero-mean gaussian) + log determinant\n",
    "    # -log p_x = log(pz(f(x))) + log(det(\\partial f/\\partial x))\n",
    "    # -log p_x = 0.5 * y**2 + s1 + s2 + ...\n",
    "    logpx = -torch.sum(0.5 * torch.log(2 * PI) + 0.5 * y**2)\n",
    "    det = torch.sum(s)\n",
    "    reg = 5e-5 * torch.sum(scale ** 2)\n",
    "    ret = -(logpx + det) + reg\n",
    "    return torch.div(ret, batch_size)"
   ]
  },
  {
   "cell_type": "code",
   "execution_count": null,
   "metadata": {},
   "outputs": [],
   "source": []
  },
  {
   "cell_type": "markdown",
   "metadata": {},
   "source": [
    "# MNist Training"
   ]
  },
  {
   "cell_type": "code",
   "execution_count": 7,
   "metadata": {
    "ExecuteTime": {
     "end_time": "2022-02-06T02:39:21.899771Z",
     "start_time": "2022-02-06T02:39:21.896709Z"
    }
   },
   "outputs": [],
   "source": [
    "def pre_process(x):\n",
    "    # Convert back to integer values\n",
    "    x = x * 255.\n",
    "    \n",
    "    # Add random uniform [0, 1] noise to get a proper likelihood estimate\n",
    "    # https://bjlkeng.github.io/posts/a-note-on-using-log-likelihood-for-generative-models/\n",
    "    x = x + torch.rand(x.shape)\n",
    "    \n",
    "    # Apply transform to deal with boundary effects (see realNVP paper)\n",
    "    x = torch.logit(0.05 + 0.90 * x / 256)\n",
    "    \n",
    "    return x\n",
    "\n",
    "def post_process(x):\n",
    "    # Convert back to integer values\n",
    "    return torch.clip(torch.floor(256 / 0.90 * (torch.sigmoid(x) - 0.05)), min=0, max=255) / 255"
   ]
  },
  {
   "cell_type": "code",
   "execution_count": null,
   "metadata": {},
   "outputs": [],
   "source": []
  },
  {
   "cell_type": "code",
   "execution_count": 8,
   "metadata": {
    "ExecuteTime": {
     "end_time": "2022-02-06T02:39:23.653720Z",
     "start_time": "2022-02-06T02:39:23.596303Z"
    }
   },
   "outputs": [],
   "source": [
    "train_dataset = datasets.MNIST('data', train=True, download=True,\n",
    "                               transform=transforms.Compose([\n",
    "                                   transforms.ToTensor(),\n",
    "                               ]))\n",
    "test_dataset = datasets.MNIST('data', train=False, download=True,\n",
    "                              transform=transforms.Compose([\n",
    "                                  transforms.ToTensor(),\n",
    "                              ]))"
   ]
  },
  {
   "cell_type": "code",
   "execution_count": 9,
   "metadata": {
    "ExecuteTime": {
     "end_time": "2022-02-06T02:39:25.190385Z",
     "start_time": "2022-02-06T02:39:25.178975Z"
    }
   },
   "outputs": [],
   "source": [
    "def train_loop(dataloader, model, loss_fn, optimizer, report_iters=10, num_pixels=28*28):\n",
    "    size = len(dataloader)\n",
    "    prev = []\n",
    "    for batch, (X, _) in enumerate(dataloader):\n",
    "        # Transfer to GPU\n",
    "        X = pre_process(X)\n",
    "        X = X.to(device)\n",
    "        \n",
    "        # Compute prediction and loss\n",
    "        y, s, scale = model(X)\n",
    "        loss = loss_fn(y, s, scale, batch_size)\n",
    "        \n",
    "        # Backpropagation\n",
    "        optimizer.zero_grad()\n",
    "        loss.backward()\n",
    "        \n",
    "        prev = [(name, x, x.grad) for name, x in model.named_parameters(recurse=True)]\n",
    "        optimizer.step()\n",
    "\n",
    "        if batch % report_iters == 0:\n",
    "            loss, current = loss.item(), batch\n",
    "            print(f\"loss: {loss:.2f}; {loss / num_pixels / np.log(2):>.2f}  [{current:>5d}/{size:>5d}]\")\n",
    "\n",
    "def test_loop(dataloader, model, loss_fn, num_pixels=28*28):\n",
    "    size = len(dataloader)\n",
    "    num_batches = len(dataloader)\n",
    "    test_loss = 0\n",
    "\n",
    "    with torch.no_grad():\n",
    "        model.validate()\n",
    "        for X, _ in dataloader:\n",
    "            X = pre_process(X)\n",
    "            X = X.to(device)\n",
    "            y, s, scale = model(X)\n",
    "            test_loss += loss_fn(y, s, scale, batch_size)\n",
    "        model.train()\n",
    "\n",
    "    test_loss /= num_batches\n",
    "    print(f\"Test Error: \\n Avg loss: {test_loss:.2f}; {test_loss / num_pixels / np.log(2):.2f} \\n\")"
   ]
  },
  {
   "cell_type": "code",
   "execution_count": null,
   "metadata": {
    "ExecuteTime": {
     "start_time": "2022-02-06T02:42:27.186Z"
    },
    "scrolled": true
   },
   "outputs": [
    {
     "name": "stdout",
     "output_type": "stream",
     "text": [
      "Epoch 1\n",
      "-------------------------------\n",
      "loss: 3871.44; 7.12  [    0/  600]\n",
      "loss: 1122.14; 2.06  [   10/  600]\n",
      "loss: 929.14; 1.71  [   20/  600]\n",
      "loss: 924.58; 1.70  [   30/  600]\n"
     ]
    }
   ],
   "source": [
    "learning_rate = 0.001\n",
    "batch_size = 100\n",
    "epochs = 5\n",
    "\n",
    "model = NormalizingFlowMNist(6, 64).to(device)\n",
    "optimizer = torch.optim.Adam(model.parameters(), lr=learning_rate)\n",
    "\n",
    "train_loader = DataLoader(train_dataset, batch_size=batch_size, shuffle=False) #shuffle=True)\n",
    "test_loader = DataLoader(test_dataset, batch_size=batch_size,  shuffle=False) #shuffle=True)\n",
    "\n",
    "for t in range(epochs):\n",
    "    print(f\"Epoch {t+1}\\n-------------------------------\")\n",
    "    train_loop(train_loader, model, loss_fn, optimizer)\n",
    "    test_loop(test_loader, model, loss_fn)\n",
    "\n",
    "print(\"Done!\")"
   ]
  },
  {
   "cell_type": "code",
   "execution_count": null,
   "metadata": {
    "ExecuteTime": {
     "start_time": "2022-02-06T02:42:27.671Z"
    }
   },
   "outputs": [],
   "source": [
    "# DEBUG\n",
    "\n",
    "model.train()\n",
    "with torch.no_grad():\n",
    "    train_loader = DataLoader(train_dataset, batch_size=1000, shuffle=True) #shuffle=True)\n",
    "    for x, _ in train_loader:\n",
    "        x_pre = pre_process(x).to(device)\n",
    "        y, s, scale = model(x_pre)\n",
    "        break\n",
    "\n",
    "model.eval()\n",
    "with torch.no_grad():\n",
    "    xp = model(y)\n",
    "    x_post = post_process(xp)\n",
    "\n",
    "diff = x.to(device) - x_post\n",
    "torch.any(torch.abs(diff) > 1e-7)"
   ]
  },
  {
   "cell_type": "code",
   "execution_count": null,
   "metadata": {
    "ExecuteTime": {
     "start_time": "2022-02-06T02:42:28.031Z"
    }
   },
   "outputs": [],
   "source": [
    "print(diff.shape)\n",
    "\n",
    "for i in range(100):\n",
    "    if torch.any(torch.abs(diff[i]) > 1e-3):\n",
    "        #print(diff[i])\n",
    "        for j in range(28):\n",
    "            for k in range(28):\n",
    "                if torch.any(torch.abs(diff[i, 0, j, k]) > 1e-3):\n",
    "                    print(i, 1, j, k, diff[i, 0, j, k].cpu().numpy())\n",
    "        break"
   ]
  },
  {
   "cell_type": "code",
   "execution_count": null,
   "metadata": {
    "ExecuteTime": {
     "start_time": "2022-02-06T02:42:28.392Z"
    }
   },
   "outputs": [],
   "source": [
    "s = pd.Series(torch.flatten(y).cpu().numpy())\n",
    "print(s.describe())\n",
    "s.hist(bins=50)"
   ]
  },
  {
   "cell_type": "code",
   "execution_count": null,
   "metadata": {
    "ExecuteTime": {
     "start_time": "2022-02-06T02:42:29.291Z"
    },
    "scrolled": false
   },
   "outputs": [],
   "source": [
    "figure = plt.figure(figsize=(8, 8))\n",
    "cols, rows = 3, 3\n",
    "for i in range(1, cols * rows + 1):\n",
    "    sample_idx = torch.randint(len(train_dataset), size=(1,)).item()\n",
    "    img, label = train_dataset[sample_idx]\n",
    "    figure.add_subplot(rows, cols, i)\n",
    "    plt.title(str(label))\n",
    "    plt.axis(\"off\")\n",
    "    plt.imshow(img.squeeze(), cmap=\"gray\")\n",
    "plt.show()"
   ]
  },
  {
   "cell_type": "code",
   "execution_count": null,
   "metadata": {
    "ExecuteTime": {
     "start_time": "2022-02-06T02:42:30.013Z"
    }
   },
   "outputs": [],
   "source": [
    "model.eval()\n",
    "with torch.no_grad():\n",
    "    X = torch.Tensor(torch.randn((1, 1, 28, 28))).to(device)\n",
    "    Y = model(X)\n",
    "    samples = post_process(Y).cpu().numpy()"
   ]
  },
  {
   "cell_type": "code",
   "execution_count": null,
   "metadata": {},
   "outputs": [],
   "source": [
    "Y"
   ]
  },
  {
   "cell_type": "code",
   "execution_count": null,
   "metadata": {},
   "outputs": [],
   "source": [
    "#train_dataset[0][0]\n",
    "samples[0, 0]"
   ]
  },
  {
   "cell_type": "code",
   "execution_count": null,
   "metadata": {},
   "outputs": [],
   "source": [
    "model.eval()\n",
    "\n",
    "cols, rows = 3, 3\n",
    "with torch.no_grad():\n",
    "    X = torch.Tensor(torch.randn((cols * rows, 1, 28, 28))).to(device)\n",
    "    Y = model(X)\n",
    "    samples = post_process(Y).cpu().numpy()\n",
    "\n",
    "figure = plt.figure(figsize=(8, 8))\n",
    "for i in range(1, cols * rows + 1):\n",
    "    img = samples[i - 1]\n",
    "    figure.add_subplot(rows, cols, i)\n",
    "    plt.axis(\"off\")\n",
    "    plt.imshow(img.squeeze(), cmap=\"gray\")\n",
    "plt.show()"
   ]
  },
  {
   "cell_type": "code",
   "execution_count": null,
   "metadata": {},
   "outputs": [],
   "source": [
    "samples[0, 0, :, :] * 255"
   ]
  },
  {
   "cell_type": "code",
   "execution_count": null,
   "metadata": {},
   "outputs": [],
   "source": [
    "x = 100 / 255\n",
    "post_process(pre_process(torch.tensor(x))), x"
   ]
  },
  {
   "cell_type": "markdown",
   "metadata": {},
   "source": [
    "# 2022-02-05\n",
    "\n",
    "* Looks like the inverse operation is working as expected:\n",
    "  * Pass in a vector in forward pass pixels -> pre_process -> gaussian -> post_process -> pixels and get the same number (with some small 10e-8 errors, also had some 10-3 errors but much more seldom)\n",
    "* Added L2 regularizer on s_scale param, not much changed\n",
    "* I keep getting a shifted distribution (negative mean) and less than 1 std when I take a batch of training and pass it through a forward pass to get z\n",
    "  * Tried removing the det terms and it still looks skewed\n",
    "* INVESTIGATE: This seems like it's relevant because if I'm sampling from a 0-mean Gaussian but real examples always end up shifted left, then of course I'm going to generate bad images"
   ]
  },
  {
   "cell_type": "markdown",
   "metadata": {},
   "source": [
    "# 2022-02-02\n",
    "\n",
    "* Implemented post-processing to convert back to pixel space but still seems like I'm getting garbage, need to debug further.\n",
    "* Ideas to double check:\n",
    "    * loss function\n",
    "    * inverse operation (should check back and forwards give the same answer)\n",
    "    * Check that forward pass actually gives something Gaussian like..."
   ]
  },
  {
   "attachments": {
    "image.png": {
     "image/png": "[encoded data removed]"
    }
   },
   "cell_type": "markdown",
   "metadata": {},
   "source": [
    "# 2022-02-01\n",
    "\n",
    "* Finally got around to actually generating images... and they are just noise!\n",
    "* Might be a bug in the network, might be that I need to increase capacity of network.  Now the fun starts!\n",
    "    * I might also have to add the \"multi-scale architecture\"\n",
    "    * Another issue might be the batch-norm layers, which probably behave very differently in testing -- I actually did comment it out.\n",
    "    \n",
    "    \n",
    "I NEED TO CONVERT BACK TO PIXEL SPACE!!!!\n",
    "\n",
    "![image.png](attachment:image.png)"
   ]
  },
  {
   "cell_type": "markdown",
   "metadata": {},
   "source": [
    "# 2022-01-31\n",
    "\n",
    "* The negative values are coming from determinant because log |df/dx| = log(|exp(s)|) = s\n",
    "* So the loss is essentially trying to make `s` very large (more negative).\n",
    "* Theoretically, it's possible by allowing the unmasked variables to almost exactly predict the masked variables, so you could multiply by a large number s(unmasked) vars, and adjust by t(unmasked) = -s(unmasked) * unmasked, to get the maximum s*masked_x - t = s*unmasked_x - s*unmasked_x = 0, which is the maximum density point for the Gaussian\n",
    "* Need to look into how the determinant (i.e. s) is be generated.  From prelim debugging above, it looks like it's generating a lot of zeros (even in unmasked positions), so I have to sort out why that's the case.\n",
    "\n",
    "Wait... found a bug.  I was putting the determinant as `mask * s` instead of the correct `(1 - mask) * s`.\n"
   ]
  },
  {
   "cell_type": "markdown",
   "metadata": {},
   "source": [
    "# 2022-01-29\n",
    "\n",
    "* Getting lots of NaNs -- debugged a bunch of things:\n",
    "    * Removed Resnet\n",
    "    * Removed exp()\n",
    "    * Made forward pass a simple feedforward\n",
    "* But it looks like issue is the data???    \n",
    "    * The stupid paper said the transform should be `logit(alpha + (1-alpha)*x/256)`...\n",
    "    * Data is originally in [0,1] (pytorch dataset)\n",
    "    * Convert back to pixels multiply by 255\n",
    "    * Add jitter to get upper bound on bits per pixel (see my post)\n",
    "    * Range is now [0, 256]\n",
    "    * Suggested alpha=0.05 (I had a bug and used 0.5)\n",
    "    * But that gets you really close to 256 (jitter is always less than 1.0 though) e.g.i logit(0.05 + 0.95 * ~255.99/256) ~= \\inf!\n",
    "    * Instead, I used this `logit(alpha + (1-alpha - 0.05)*x/256)`, which is symmetrical...\n",
    "    \n",
    "NEXT STEPS:\n",
    "* So things look good now, except that I get a negative loss, which shouldn't happen (after applying jitter)???\n",
    "    * It's because I need a new uniform noise sample per EPOCH???\n",
    "    * Or is it because I'm using continuous variables on the output?  So maybe I just need to measure this \"loss\" when I reverse the network?  \n",
    "        * It's probably this... if it's a continuous output, the log density surely doesn't need to be positive (vs. if I were directly outputting pixel values).\n",
    "        \n",
    "        \n",
    "I THINK I FIGURED IT OUT:  IT's becuase I didn't have the 1/sqrt(2pi) in the log-likelihood!"
   ]
  },
  {
   "cell_type": "code",
   "execution_count": null,
   "metadata": {},
   "outputs": [],
   "source": []
  },
  {
   "cell_type": "code",
   "execution_count": null,
   "metadata": {},
   "outputs": [],
   "source": []
  }
 ],
 "metadata": {
  "kernelspec": {
   "display_name": "Python 3",
   "language": "python",
   "name": "python3"
  },
  "language_info": {
   "codemirror_mode": {
    "name": "ipython",
    "version": 3
   },
   "file_extension": ".py",
   "mimetype": "text/x-python",
   "name": "python",
   "nbconvert_exporter": "python",
   "pygments_lexer": "ipython3",
   "version": "3.6.5"
  }
 },
 "nbformat": 4,
 "nbformat_minor": 2
}
