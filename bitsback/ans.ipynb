{
 "cells": [
  {
   "cell_type": "code",
   "execution_count": 1,
   "metadata": {
    "ExecuteTime": {
     "end_time": "2021-01-30T17:36:27.449850Z",
     "start_time": "2021-01-30T17:36:27.374760Z"
    }
   },
   "outputs": [],
   "source": [
    "import numpy as np\n",
    "from ans import code_rans, decode_rans"
   ]
  },
  {
   "cell_type": "code",
   "execution_count": 2,
   "metadata": {
    "ExecuteTime": {
     "end_time": "2021-01-30T17:36:27.531145Z",
     "start_time": "2021-01-30T17:36:27.451289Z"
    }
   },
   "outputs": [],
   "source": [
    "alphabet = [str(i) for i in range(2**16)]\n",
    "freqs = [1 for i in range(2**16)]\n",
    "cdf = np.cumsum(freqs)\n",
    "cdf = np.insert(cdf, 0, 0).astype(np.uint64)"
   ]
  },
  {
   "cell_type": "code",
   "execution_count": 3,
   "metadata": {
    "ExecuteTime": {
     "end_time": "2021-01-30T17:36:28.819764Z",
     "start_time": "2021-01-30T17:36:27.533026Z"
    }
   },
   "outputs": [
    {
     "name": "stdout",
     "output_type": "stream",
     "text": [
      "5000\n",
      "[1]\n"
     ]
    }
   ],
   "source": [
    "# Run WITH pre-calculated cdf\n",
    "stack = []\n",
    "msg = []\n",
    "for i in range(10000):\n",
    "    if freqs[i] == 0:\n",
    "        continue\n",
    "    s = str(i)\n",
    "    stack = code_rans(s, stack, alphabet, freqs, cdf)\n",
    "    msg.append(s)\n",
    "\n",
    "print(len(stack))\n",
    "result = []\n",
    "for i in range(10000):\n",
    "    if freqs[i] == 0:\n",
    "        continue\n",
    "    stack, s = decode_rans(stack, alphabet, freqs, cdf)\n",
    "    result.append(s)\n",
    "\n",
    "print(stack)\n",
    "assert list(reversed(result)) == msg, (msg[:10], result[-10:])"
   ]
  },
  {
   "cell_type": "code",
   "execution_count": 4,
   "metadata": {
    "ExecuteTime": {
     "end_time": "2021-01-30T17:36:28.823969Z",
     "start_time": "2021-01-30T17:36:28.821605Z"
    }
   },
   "outputs": [],
   "source": [
    "## Run w/o pre-calculated cdf\n",
    "#msg = []\n",
    "#stack = []\n",
    "#for i in range(1000):\n",
    "#    if freqs[i] == 0:\n",
    "#        continue\n",
    "#    s = str(i)\n",
    "#    stack = code_rans(s, stack, alphabet, freqs)\n",
    "#    msg.append(s)\n",
    "#    print(s, '->', stack)\n",
    "#\n",
    "#print('-----')\n",
    "#result = []\n",
    "#for i in range(1000):\n",
    "#    if freqs[i] == 0:\n",
    "#        continue\n",
    "#    stack, s = decode_rans(stack, alphabet, freqs)\n",
    "#    result.append(s)\n",
    "#    print(stack, '->', s)\n",
    "#    \n",
    "#assert list(reversed(result)) == msg"
   ]
  },
  {
   "cell_type": "code",
   "execution_count": null,
   "metadata": {},
   "outputs": [],
   "source": []
  },
  {
   "cell_type": "code",
   "execution_count": null,
   "metadata": {},
   "outputs": [],
   "source": []
  },
  {
   "cell_type": "code",
   "execution_count": null,
   "metadata": {},
   "outputs": [],
   "source": []
  }
 ],
 "metadata": {
  "kernelspec": {
   "display_name": "Python 3",
   "language": "python",
   "name": "python3"
  },
  "language_info": {
   "codemirror_mode": {
    "name": "ipython",
    "version": 3
   },
   "file_extension": ".py",
   "mimetype": "text/x-python",
   "name": "python",
   "nbconvert_exporter": "python",
   "pygments_lexer": "ipython3",
   "version": "3.6.5"
  }
 },
 "nbformat": 4,
 "nbformat_minor": 2
}
