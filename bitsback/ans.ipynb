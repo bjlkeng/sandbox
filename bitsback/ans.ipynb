{
 "cells": [
  {
   "cell_type": "code",
   "execution_count": 1,
   "metadata": {
    "ExecuteTime": {
     "end_time": "2021-01-30T17:36:27.449850Z",
     "start_time": "2021-01-30T17:36:27.374760Z"
    }
   },
   "outputs": [],
   "source": [
    "import numpy as np\n",
    "import random\n",
    "from ans import code_rans, decode_rans"
   ]
  },
  {
   "cell_type": "code",
   "execution_count": 2,
   "metadata": {
    "ExecuteTime": {
     "end_time": "2021-01-30T17:36:27.531145Z",
     "start_time": "2021-01-30T17:36:27.451289Z"
    }
   },
   "outputs": [],
   "source": [
    "N = 4\n",
    "Q = 8\n",
    "alphabet = [str(i) for i in range(2**N)]\n",
    "freqs = [1 if i % 2 == 0 else (2**(Q-N) - 1) for i in range(2**N)]\n",
    "cdf = np.cumsum(freqs)\n",
    "cdf = np.insert(cdf, 0, 0).astype(np.uint64)"
   ]
  },
  {
   "cell_type": "code",
   "execution_count": 3,
   "metadata": {
    "ExecuteTime": {
     "end_time": "2021-01-30T17:36:28.819764Z",
     "start_time": "2021-01-30T17:36:27.533026Z"
    }
   },
   "outputs": [
    {
     "name": "stdout",
     "output_type": "stream",
     "text": [
      "stack: 18 vs. msg: 100\n",
      "[1]\n",
      "['6', '2', '9', '11', '9', '15', '9', '15', '3', '7', '12', '7', '11', '6', '15', '7', '4', '10', '15', '5', '3', '10', '13', '10', '11', '14', '4', '15', '8', '11', '11', '5', '8', '15', '12', '4', '12', '2', '5', '14', '0', '12', '7', '3', '4', '0', '14', '6', '1', '6', '6', '4', '5', '13', '6', '6', '15', '5', '7', '5', '1', '8', '0', '13', '15', '13', '8', '11', '6', '3', '7', '4', '15', '7', '1', '10', '6', '15', '13', '13', '8', '15', '13', '14', '8', '0', '8', '11', '7', '8', '1', '11', '0', '2', '15', '4', '13', '7', '3', '2']\n",
      "['2', '3', '7', '13', '4', '15', '2', '0', '11', '1', '8', '7', '11', '8', '0', '8', '14', '13', '15', '8', '13', '13', '15', '6', '10', '1', '7', '15', '4', '7', '3', '6', '11', '8', '13', '15', '13', '0', '8', '1', '5', '7', '5', '15', '6', '6', '13', '5', '4', '6', '6', '1', '6', '14', '0', '4', '3', '7', '12', '0', '14', '5', '2', '12', '4', '12', '15', '8', '5', '11', '11', '8', '15', '4', '14', '11', '10', '13', '10', '3', '5', '15', '10', '4', '7', '15', '6', '11', '7', '12', '7', '3', '15', '9', '15', '9', '11', '9', '2', '6']\n"
     ]
    }
   ],
   "source": [
    "# Run WITH pre-calculated cdf\n",
    "stack = []\n",
    "msg = []\n",
    "for i in range(100):\n",
    "    # generate random int\n",
    "    s = alphabet[random.randint(0, len(alphabet)-1)]\n",
    "    stack = code_rans(s, stack, alphabet, freqs, cdf, quant_bits=Q)\n",
    "    msg.append(s)\n",
    "\n",
    "print(f'stack: {len(stack)} vs. msg: {len(msg)}')\n",
    "result = []\n",
    "for i in range(100):\n",
    "    stack, s = decode_rans(stack, alphabet, freqs, cdf, quant_bits=Q)\n",
    "    result.append(s)\n",
    "\n",
    "print(stack)\n",
    "print(msg)\n",
    "print(result)\n",
    "assert list(reversed(result)) == msg, (msg[:10], result[-10:])"
   ]
  },
  {
   "cell_type": "code",
   "execution_count": 4,
   "metadata": {
    "ExecuteTime": {
     "end_time": "2021-01-30T17:36:28.823969Z",
     "start_time": "2021-01-30T17:36:28.821605Z"
    }
   },
   "outputs": [],
   "source": [
    "## Run w/o pre-calculated cdf\n",
    "#msg = []\n",
    "#stack = []\n",
    "#for i in range(1000):\n",
    "#    if freqs[i] == 0:\n",
    "#        continue\n",
    "#    s = str(i)\n",
    "#    stack = code_rans(s, stack, alphabet, freqs)\n",
    "#    msg.append(s)\n",
    "#    print(s, '->', stack)\n",
    "#\n",
    "#print('-----')\n",
    "#result = []\n",
    "#for i in range(1000):\n",
    "#    if freqs[i] == 0:\n",
    "#        continue\n",
    "#    stack, s = decode_rans(stack, alphabet, freqs)\n",
    "#    result.append(s)\n",
    "#    print(stack, '->', s)\n",
    "#    \n",
    "#assert list(reversed(result)) == msg"
   ]
  },
  {
   "cell_type": "code",
   "execution_count": null,
   "metadata": {},
   "outputs": [],
   "source": []
  },
  {
   "cell_type": "code",
   "execution_count": null,
   "metadata": {},
   "outputs": [],
   "source": []
  },
  {
   "cell_type": "code",
   "execution_count": null,
   "metadata": {},
   "outputs": [],
   "source": []
  }
 ],
 "metadata": {
  "kernelspec": {
   "display_name": "Python 3",
   "language": "python",
   "name": "python3"
  },
  "language_info": {
   "codemirror_mode": {
    "name": "ipython",
    "version": 3
   },
   "file_extension": ".py",
   "mimetype": "text/x-python",
   "name": "python",
   "nbconvert_exporter": "python",
   "pygments_lexer": "ipython3",
   "version": "3.10.12"
  }
 },
 "nbformat": 4,
 "nbformat_minor": 2
}
